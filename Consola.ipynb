{
 "cells": [
  {
   "cell_type": "code",
   "execution_count": 13,
   "metadata": {
    "colab": {
     "base_uri": "https://localhost:8080/"
    },
    "executionInfo": {
     "elapsed": 271,
     "status": "ok",
     "timestamp": 1705674249009,
     "user": {
      "displayName": "Jorge Velazquez-Castro",
      "userId": "01681773826982879139"
     },
     "user_tz": 360
    },
    "id": "YqeABVbLaT57",
    "outputId": "ec6b77f9-136a-4f7f-d9ea-7009b6a5a6ec"
   },
   "outputs": [
    {
     "name": "stdout",
     "output_type": "stream",
     "text": [
      "C:\\Users\\carlo\\Documents\\Codes\\RedesNeuronales\\Neuronal-Red-NumPy\n"
     ]
    }
   ],
   "source": [
    "cd C:\\Users\\carlo\\Documents\\Codes\\RedesNeuronales\\Neuronal-Red-NumPy"
   ]
  },
  {
   "cell_type": "code",
   "execution_count": 14,
   "metadata": {
    "colab": {
     "base_uri": "https://localhost:8080/"
    },
    "executionInfo": {
     "elapsed": 319,
     "status": "ok",
     "timestamp": 1705673469150,
     "user": {
      "displayName": "Jorge Velazquez-Castro",
      "userId": "01681773826982879139"
     },
     "user_tz": 360
    },
    "id": "CW6r5ctFeRTz",
    "outputId": "2c8fe367-5703-472d-d300-a11cbd2e716f"
   },
   "outputs": [
    {
     "name": "stdout",
     "output_type": "stream",
     "text": [
      " El volumen de la unidad C es OS\n",
      " El n£mero de serie del volumen es: 362D-F632\n",
      "\n",
      " Directorio de C:\\Users\\carlo\\Documents\\Codes\\RedesNeuronales\\Neuronal-Red-NumPy\n",
      "\n",
      "05/02/2024  05:56 p. m.    <DIR>          .\n",
      "05/02/2024  03:58 p. m.    <DIR>          ..\n",
      "04/02/2024  10:56 p. m.    <DIR>          .ipynb_checkpoints\n",
      "05/02/2024  05:56 p. m.    <DIR>          __pycache__\n",
      "05/02/2024  05:56 p. m.            13,084 Consola.ipynb\n",
      "24/01/2024  08:37 p. m.             1,868 DataVisualization.py\n",
      "05/02/2024  05:56 p. m.               773 ejemplo.py\n",
      "24/01/2024  08:37 p. m.        17,051,982 mnist.pkl.gz\n",
      "24/01/2024  08:37 p. m.             3,509 mnist_loader.py\n",
      "05/02/2024  05:56 p. m.            12,466 network.py\n",
      "24/01/2024  08:37 p. m.            88,484 Numero3.jpg\n",
      "24/01/2024  08:32 p. m.                20 README.md\n",
      "05/02/2024  05:56 p. m.           191,232 red_prueba1.pkl\n",
      "24/01/2024  08:37 p. m.               386 UsandoNetwork.py\n",
      "              10 archivos     17,363,804 bytes\n",
      "               4 dirs  14,464,200,704 bytes libres\n"
     ]
    }
   ],
   "source": [
    "ls"
   ]
  },
  {
   "cell_type": "code",
   "execution_count": 20,
   "metadata": {},
   "outputs": [
    {
     "name": "stdout",
     "output_type": "stream",
     "text": [
      "Epoch 0: 7148 / 10000\n",
      "Epoch 1: 7117 / 10000\n",
      "Epoch 2: 7012 / 10000\n",
      "Epoch 3: 7912 / 10000\n",
      "Epoch 4: 8445 / 10000\n",
      "Epoch 5: 7454 / 10000\n",
      "Epoch 6: 8012 / 10000\n",
      "Epoch 7: 8124 / 10000\n",
      "Epoch 8: 7973 / 10000\n",
      "Epoch 9: 8394 / 10000\n",
      "Epoch 10: 8276 / 10000\n",
      "Epoch 11: 8083 / 10000\n",
      "Epoch 12: 7912 / 10000\n",
      "Epoch 13: 7822 / 10000\n",
      "Epoch 14: 8258 / 10000\n",
      "Epoch 15: 8091 / 10000\n",
      "Epoch 16: 8156 / 10000\n",
      "Epoch 17: 8294 / 10000\n",
      "Epoch 18: 8269 / 10000\n",
      "Epoch 19: 8213 / 10000\n",
      "Epoch 20: 8587 / 10000\n",
      "Epoch 21: 8265 / 10000\n",
      "Epoch 22: 8188 / 10000\n",
      "Epoch 23: 8266 / 10000\n",
      "Epoch 24: 8104 / 10000\n",
      "Epoch 25: 8265 / 10000\n",
      "Epoch 26: 7956 / 10000\n",
      "Epoch 27: 8376 / 10000\n",
      "Epoch 28: 8433 / 10000\n",
      "Epoch 29: 8108 / 10000\n",
      "El tiempo de ejecución fue de 461.82183265686035 segundos.\n"
     ]
    }
   ],
   "source": [
    "import time\n",
    "\n",
    "# Guarda el tiempo de inicio\n",
    "start_time = time.time()\n",
    "\n",
    "# Tu código aquí\n",
    "!python ejemplo.py\n",
    "\n",
    "# Guarda el tiempo de finalización\n",
    "end_time = time.time()\n",
    "\n",
    "\n",
    "execution_time = end_time - start_time\n",
    "\n",
    "print(f\"El tiempo de ejecución fue de {execution_time} segundos.\")#Función de costo original(cuadratica)"
   ]
  },
  {
   "cell_type": "code",
   "execution_count": 3,
   "metadata": {
    "colab": {
     "base_uri": "https://localhost:8080/"
    },
    "executionInfo": {
     "elapsed": 449491,
     "status": "ok",
     "timestamp": 1705630684096,
     "user": {
      "displayName": "Jorge Velazquez-Castro",
      "userId": "01681773826982879139"
     },
     "user_tz": 360
    },
    "id": "fAbO9JJjeaIq",
    "outputId": "1cd78cf6-bd33-47c6-d81c-c38e9463e1ac"
   },
   "outputs": [
    {
     "name": "stdout",
     "output_type": "stream",
     "text": [
      "Epoch 0: 9107 / 10000\n",
      "Epoch 1: 9156 / 10000\n",
      "Epoch 2: 9303 / 10000\n",
      "Epoch 3: 9307 / 10000\n",
      "Epoch 4: 9372 / 10000\n",
      "Epoch 5: 9350 / 10000\n",
      "Epoch 6: 9401 / 10000\n",
      "Epoch 7: 9399 / 10000\n",
      "Epoch 8: 9393 / 10000\n",
      "Epoch 9: 9411 / 10000\n",
      "Epoch 10: 9422 / 10000\n",
      "Epoch 11: 9403 / 10000\n",
      "Epoch 12: 9411 / 10000\n",
      "Epoch 13: 9442 / 10000\n",
      "Epoch 14: 9443 / 10000\n",
      "Epoch 15: 9444 / 10000\n",
      "Epoch 16: 9451 / 10000\n",
      "Epoch 17: 9452 / 10000\n",
      "Epoch 18: 9464 / 10000\n",
      "Epoch 19: 9449 / 10000\n",
      "Epoch 20: 9436 / 10000\n",
      "Epoch 21: 9466 / 10000\n",
      "Epoch 22: 9452 / 10000\n",
      "Epoch 23: 9469 / 10000\n",
      "Epoch 24: 9456 / 10000\n",
      "Epoch 25: 9451 / 10000\n",
      "Epoch 26: 9488 / 10000\n",
      "Epoch 27: 9445 / 10000\n",
      "Epoch 28: 9471 / 10000\n",
      "Epoch 29: 9466 / 10000\n"
     ]
    }
   ],
   "source": []
  },
  {
   "cell_type": "code",
   "execution_count": 4,
   "metadata": {
    "colab": {
     "base_uri": "https://localhost:8080/"
    },
    "executionInfo": {
     "elapsed": 3662,
     "status": "ok",
     "timestamp": 1705631268377,
     "user": {
      "displayName": "Jorge Velazquez-Castro",
      "userId": "01681773826982879139"
     },
     "user_tz": 360
    },
    "id": "aLeNag-1i2Hz",
    "outputId": "34d5b048-030f-4301-bb2b-9617454fd6d0"
   },
   "outputs": [
    {
     "name": "stdout",
     "output_type": "stream",
     "text": [
      "5\n",
      "Figure(640x480)\n",
      "imagen a reconocer\n",
      "Figure(640x480)\n",
      "[[1.14896775e-03]\n",
      " [1.83052995e-05]\n",
      " [5.03027040e-06]\n",
      " [9.95158626e-01]\n",
      " [2.96697395e-12]\n",
      " [1.73306828e-03]\n",
      " [4.65714706e-10]\n",
      " [5.14870871e-04]\n",
      " [1.43187190e-08]\n",
      " [6.69658822e-09]]\n",
      "La red reconoce la imagen como un:\n",
      "[3]\n",
      "Ahora probamos con la imagen del 5 de la base de datos:\n",
      "[[1.10558932e-04]\n",
      " [6.04780960e-07]\n",
      " [1.12469841e-06]\n",
      " [5.66087156e-02]\n",
      " [9.37745385e-11]\n",
      " [9.94188947e-01]\n",
      " [2.07364686e-12]\n",
      " [2.50107741e-04]\n",
      " [5.82889600e-09]\n",
      " [1.00931917e-07]]\n",
      "La red reconoce la imagen como un:\n",
      "[5]\n"
     ]
    }
   ],
   "source": [
    "!python DataVisualization.py"
   ]
  },
  {
   "cell_type": "markdown",
   "metadata": {
    "id": "7IX8MN5isMJT"
   },
   "source": [
    "# Para montar gdrive en linux"
   ]
  },
  {
   "cell_type": "code",
   "execution_count": null,
   "metadata": {
    "id": "seSyYRPlsK9c"
   },
   "outputs": [],
   "source": [
    "sudo apt-get install python-pip\n",
    "sudo apt-get install build-essential python-dev"
   ]
  },
  {
   "cell_type": "markdown",
   "metadata": {
    "id": "hL9nK3bPsfPe"
   },
   "source": [
    "En espacio de usuario para computadoras sin permiso administrativo"
   ]
  },
  {
   "cell_type": "code",
   "execution_count": null,
   "metadata": {
    "id": "BwZyxEqGsJ3v"
   },
   "outputs": [],
   "source": [
    "pip install --user gdrivefs"
   ]
  },
  {
   "cell_type": "markdown",
   "metadata": {
    "id": "LKsUdxQZsxvN"
   },
   "source": [
    "Autenticación Automática"
   ]
  },
  {
   "cell_type": "code",
   "execution_count": null,
   "metadata": {
    "id": "RHoNH4G3swcH"
   },
   "outputs": [],
   "source": [
    "gdfstool auth_automatic"
   ]
  },
  {
   "cell_type": "markdown",
   "metadata": {
    "id": "zOe80UJ_uBZH"
   },
   "source": [
    "Montar con valores default"
   ]
  },
  {
   "cell_type": "code",
   "execution_count": null,
   "metadata": {
    "id": "7cv1iA3It_7a"
   },
   "outputs": [],
   "source": [
    "gdfs default /mnt/gdrivefs"
   ]
  },
  {
   "cell_type": "markdown",
   "metadata": {
    "id": "SMZhd7n_tbid"
   },
   "source": [
    "O bien para mayor velocidad (linux)"
   ]
  },
  {
   "cell_type": "code",
   "execution_count": null,
   "metadata": {
    "id": "6qGx9vFpteOd"
   },
   "outputs": [],
   "source": [
    "gdfs -o big_writes /home/user/.gdfs/creds /mnt/gdrivefs"
   ]
  },
  {
   "cell_type": "markdown",
   "metadata": {
    "id": "VJ6DMrVVsvsd"
   },
   "source": [
    "O bien consola directo en colab"
   ]
  },
  {
   "cell_type": "code",
   "execution_count": 5,
   "metadata": {
    "colab": {
     "base_uri": "https://localhost:8080/",
     "height": 454
    },
    "executionInfo": {
     "elapsed": 6682,
     "status": "ok",
     "timestamp": 1705674263872,
     "user": {
      "displayName": "Jorge Velazquez-Castro",
      "userId": "01681773826982879139"
     },
     "user_tz": 360
    },
    "id": "1PiQsP8g6izp",
    "outputId": "f976c74d-deb0-44ba-d665-e6819907535f"
   },
   "outputs": [
    {
     "name": "stdout",
     "output_type": "stream",
     "text": [
      "Requirement already satisfied: google-colab-shell in /usr/local/lib/python3.10/dist-packages (0.2)\n"
     ]
    },
    {
     "data": {
      "text/html": [
       "<!--https://github.com/singhsidhukuldeep/Google-Colab-Shell/-->\n",
       "<!--Using JS/CSS from official sources with backups in-case :)-->\n",
       "<div id=colab_shell></div>\n",
       "<script src=\"https://code.jquery.com/jquery-latest.js\"></script>\n",
       "<script src=\"https://cdn.jsdelivr.net/npm/jquery.terminal/js/jquery.terminal.min.js\"></script>\n",
       "<link href=\"https://cdn.jsdelivr.net/npm/jquery.terminal/css/jquery.terminal.min.css\" rel=\"stylesheet\"/>\n",
       "<script>\n",
       "   $('#colab_shell').terminal(async function(command) {\n",
       "       if (command !== '') {\n",
       "           try {\n",
       "               let res = await google.colab.kernel.invokeFunction('shell', [command])\n",
       "               let out = res.data['application/json'][0]\n",
       "               this.echo(new String(out))\n",
       "           } catch(e) {\n",
       "               this.error(new String(e));\n",
       "           }\n",
       "       } else {\n",
       "           this.echo(\n",
       "             //   '>>Empty Command<<\\n'+\n",
       "             //   'If you can afford use Google Colab Pro'\n",
       "               );\n",
       "       }\n",
       "   }, {\n",
       "       greetings: 'Welcome to Google Colab Shell\\n'+\n",
       "         'If you can afford, please use Google Colab Pro ( https://colab.research.google.com/signup )\\n'+\n",
       "         '⭐ STAR the repo ⭐\\n https://github.com/singhsidhukuldeep/Google-Colab-Shell\\n\\n',\n",
       "       name: 'colab_shell',\n",
       "       height: 400,\n",
       "       prompt: '█$ colab>>\\t'\n",
       "   });\n",
       "</script>\n"
      ],
      "text/plain": [
       "<IPython.core.display.HTML object>"
      ]
     },
     "execution_count": 5,
     "metadata": {},
     "output_type": "execute_result"
    }
   ],
   "source": [
    "!pip install google-colab-shell\n",
    "from google_colab_shell import getshell\n",
    "getshell()"
   ]
  }
 ],
 "metadata": {
  "colab": {
   "authorship_tag": "ABX9TyObdlhdUtQ/ADEEKV3WKekH",
   "mount_file_id": "1DNyv6Aju4bqrlbWHsA00qGe-AsINRIe4",
   "provenance": []
  },
  "kernelspec": {
   "display_name": "Python 3",
   "language": "python",
   "name": "python3"
  },
  "language_info": {
   "codemirror_mode": {
    "name": "ipython",
    "version": 3
   },
   "file_extension": ".py",
   "mimetype": "text/x-python",
   "name": "python",
   "nbconvert_exporter": "python",
   "pygments_lexer": "ipython3",
   "version": "3.8.8"
  }
 },
 "nbformat": 4,
 "nbformat_minor": 1
}
